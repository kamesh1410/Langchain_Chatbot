{
 "cells": [
  {
   "cell_type": "code",
   "execution_count": 37,
   "metadata": {},
   "outputs": [
    {
     "name": "stdout",
     "output_type": "stream",
     "text": [
      "Data extracted and cleaned successfully.\n",
      "FAISS index rebuilt successfully!\n",
      "Answer: $30per sessionLEARN ROBOTICS You can open all kinds of doors for advancement in so many careers with a basic understanding of el\n",
      "$30per sessionLEARN SCRATCH PROGRAMING Scratch Course is the foundation of coding and is a building block of a coding journey. If you want\n",
      "$30per sessionLEARN CORE JAVA PROGRAMMING ONLINE Java is a very popular high-level, class-based, object-oriented programming language that is design\n"
     ]
    }
   ],
   "source": [
    "from langchain.document_loaders import WebBaseLoader\n",
    "from bs4 import BeautifulSoup\n",
    "import re\n",
    "import faiss\n",
    "import numpy as np\n",
    "from langchain_huggingface import HuggingFaceEmbeddings\n",
    "\n",
    "# Function to clean extracted text\n",
    "def clean_text(text):\n",
    "    soup = BeautifulSoup(text, \"html.parser\")\n",
    "    text = soup.get_text()\n",
    "    text = re.sub(r'(Sign In|FAQ|Contact Us|Home|Book a Free Demo Now)', '', text)\n",
    "\n",
    "    # Improved regex for detailed course extraction\n",
    "    course_info = re.findall(r'(\\$\\d+.*?LEARN.*?)\\d+\\s*Lessons', text, re.DOTALL)\n",
    "    \n",
    "    # Enhanced formatting and removing redundant spaces\n",
    "    formatted_courses = [re.sub(r'\\s+', ' ', course).strip() for course in course_info]\n",
    "    return \"\\n\".join(formatted_courses) if formatted_courses else \"No relevant data found.\"\n",
    "\n",
    "# Function to extract and clean data\n",
    "def extract_data(url):\n",
    "    loader = WebBaseLoader(url)\n",
    "    documents = loader.load()\n",
    "    cleaned_data = [clean_text(doc.page_content) for doc in documents if doc.page_content.strip()]\n",
    "\n",
    "    if cleaned_data:\n",
    "        with open(\"data.txt\", \"w\", encoding=\"utf-8\") as file:\n",
    "            file.write(\"\\n\".join(cleaned_data))\n",
    "        print(\"Data extracted and cleaned successfully.\")\n",
    "    else:\n",
    "        print(\"No valid data extracted from the URL.\")\n",
    "\n",
    "# Extract data from URL\n",
    "url = \"https://brainlox.com/courses/category/technical\"\n",
    "extract_data(url)\n",
    "\n",
    "# Initialize embeddings and build FAISS index\n",
    "embeddings = HuggingFaceEmbeddings(model_name=\"sentence-transformers/all-MiniLM-L6-v2\")\n",
    "\n",
    "with open(\"data.txt\", \"r\", encoding=\"utf-8\") as file:\n",
    "    data = [line.strip() for line in file.readlines() if line.strip()]\n",
    "\n",
    "data_embeddings = np.array([embeddings.embed_query(line) for line in data], dtype=\"float32\")\n",
    "\n",
    "# Create and save FAISS index\n",
    "index = faiss.IndexFlatL2(data_embeddings.shape[1])\n",
    "index.add(data_embeddings)\n",
    "faiss.write_index(index, \"faiss_index.bin\")\n",
    "print(\"FAISS index rebuilt successfully!\")\n",
    "\n",
    "# Function to retrieve answers from FAISS index\n",
    "def get_answer(query):\n",
    "    query_embedding = np.array([embeddings.embed_query(query)], dtype=\"float32\")\n",
    "    _, result_indices = index.search(query_embedding, k=3)\n",
    "\n",
    "    # Collect multiple responses for better results\n",
    "    answers = [data[i] for i in result_indices[0] if i < len(data)]\n",
    "    return \"\\n\".join(answers) if answers else \"No relevant data found.\"\n",
    "\n",
    "# Example usage\n",
    "query = \"What technical courses are available?\"\n",
    "answer = get_answer(query)\n",
    "print(\"Answer:\", answer)"
   ]
  }
 ],
 "metadata": {
  "kernelspec": {
   "display_name": "Python 3",
   "language": "python",
   "name": "python3"
  },
  "language_info": {
   "codemirror_mode": {
    "name": "ipython",
    "version": 3
   },
   "file_extension": ".py",
   "mimetype": "text/x-python",
   "name": "python",
   "nbconvert_exporter": "python",
   "pygments_lexer": "ipython3",
   "version": "3.13.2"
  }
 },
 "nbformat": 4,
 "nbformat_minor": 2
}
